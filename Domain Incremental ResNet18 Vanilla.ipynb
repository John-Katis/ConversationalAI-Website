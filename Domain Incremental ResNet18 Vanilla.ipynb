{
  "nbformat": 4,
  "nbformat_minor": 0,
  "metadata": {
    "colab": {
      "provenance": [],
      "authorship_tag": "ABX9TyNSsLctZLSeZxwpvPDIkCml",
      "include_colab_link": true
    },
    "kernelspec": {
      "name": "python3",
      "display_name": "Python 3"
    },
    "language_info": {
      "name": "python"
    }
  },
  "cells": [
    {
      "cell_type": "markdown",
      "metadata": {
        "id": "view-in-github",
        "colab_type": "text"
      },
      "source": [
        "<a href=\"https://colab.research.google.com/github/John-Katis/ConversationalAI-Website/blob/main/Domain%20Incremental%20ResNet18%20Vanilla.ipynb\" target=\"_parent\"><img src=\"https://colab.research.google.com/assets/colab-badge.svg\" alt=\"Open In Colab\"/></a>"
      ]
    },
    {
      "cell_type": "markdown",
      "source": [
        "# **CLRS ResNet18 Continual Learning - Class Incremental**\n"
      ],
      "metadata": {
        "id": "ihnAt9WOvyv7"
      }
    },
    {
      "cell_type": "markdown",
      "source": [
        "### GDrive and Libraries instantiation"
      ],
      "metadata": {
        "id": "v8synT6jCU8k"
      }
    },
    {
      "cell_type": "code",
      "source": [
        "\"\"\"\n",
        "    Mounting google Drive\n",
        "\"\"\"\n",
        "\n",
        "\n",
        "from google.colab import drive\n",
        "drive.mount('/content/drive')"
      ],
      "metadata": {
        "colab": {
          "base_uri": "https://localhost:8080/"
        },
        "id": "P6W-Fh6Zvwq2",
        "outputId": "cfff554c-8385-4898-e932-b56f3f88b656"
      },
      "execution_count": null,
      "outputs": [
        {
          "output_type": "stream",
          "name": "stdout",
          "text": [
            "Drive already mounted at /content/drive; to attempt to forcibly remount, call drive.mount(\"/content/drive\", force_remount=True).\n"
          ]
        }
      ]
    },
    {
      "cell_type": "code",
      "source": [
        "\"\"\"\n",
        "    Installing required packages for loading the .tif files and the \n",
        "    avalanche distribution\n",
        "\"\"\"\n",
        "\n",
        "\n",
        "!pip install avalanche-lib\n",
        "!pip install rasterio"
      ],
      "metadata": {
        "id": "MkfOzK_cido-",
        "outputId": "5c4dfb01-e6c7-4e2e-d7f0-078e7108bf76",
        "colab": {
          "base_uri": "https://localhost:8080/"
        }
      },
      "execution_count": null,
      "outputs": [
        {
          "output_type": "stream",
          "name": "stdout",
          "text": [
            "Looking in indexes: https://pypi.org/simple, https://us-python.pkg.dev/colab-wheels/public/simple/\n",
            "Requirement already satisfied: avalanche-lib in /usr/local/lib/python3.7/dist-packages (0.2.1)\n",
            "Requirement already satisfied: numpy in /usr/local/lib/python3.7/dist-packages (from avalanche-lib) (1.21.6)\n",
            "Requirement already satisfied: psutil in /usr/local/lib/python3.7/dist-packages (from avalanche-lib) (5.4.8)\n",
            "Requirement already satisfied: gputil in /usr/local/lib/python3.7/dist-packages (from avalanche-lib) (1.4.0)\n",
            "Requirement already satisfied: torchmetrics in /usr/local/lib/python3.7/dist-packages (from avalanche-lib) (0.10.2)\n",
            "Requirement already satisfied: quadprog in /usr/local/lib/python3.7/dist-packages (from avalanche-lib) (0.1.11)\n",
            "Requirement already satisfied: setuptools<=59.5.0 in /usr/local/lib/python3.7/dist-packages (from avalanche-lib) (57.4.0)\n",
            "Requirement already satisfied: tqdm in /usr/local/lib/python3.7/dist-packages (from avalanche-lib) (4.64.1)\n",
            "Requirement already satisfied: typing-extensions in /usr/local/lib/python3.7/dist-packages (from avalanche-lib) (4.1.1)\n",
            "Requirement already satisfied: wandb in /usr/local/lib/python3.7/dist-packages (from avalanche-lib) (0.13.5)\n",
            "Requirement already satisfied: tensorboard>=1.15 in /usr/local/lib/python3.7/dist-packages (from avalanche-lib) (2.9.1)\n",
            "Requirement already satisfied: torch in /usr/local/lib/python3.7/dist-packages (from avalanche-lib) (1.12.1+cu113)\n",
            "Requirement already satisfied: gdown in /usr/local/lib/python3.7/dist-packages (from avalanche-lib) (4.4.0)\n",
            "Requirement already satisfied: torchvision in /usr/local/lib/python3.7/dist-packages (from avalanche-lib) (0.13.1+cu113)\n",
            "Requirement already satisfied: matplotlib in /usr/local/lib/python3.7/dist-packages (from avalanche-lib) (3.2.2)\n",
            "Requirement already satisfied: pytorchcv in /usr/local/lib/python3.7/dist-packages (from avalanche-lib) (0.0.67)\n",
            "Requirement already satisfied: scikit-learn in /usr/local/lib/python3.7/dist-packages (from avalanche-lib) (1.0.2)\n",
            "Requirement already satisfied: google-auth-oauthlib<0.5,>=0.4.1 in /usr/local/lib/python3.7/dist-packages (from tensorboard>=1.15->avalanche-lib) (0.4.6)\n",
            "Requirement already satisfied: tensorboard-data-server<0.7.0,>=0.6.0 in /usr/local/lib/python3.7/dist-packages (from tensorboard>=1.15->avalanche-lib) (0.6.1)\n",
            "Requirement already satisfied: protobuf<3.20,>=3.9.2 in /usr/local/lib/python3.7/dist-packages (from tensorboard>=1.15->avalanche-lib) (3.19.6)\n",
            "Requirement already satisfied: grpcio>=1.24.3 in /usr/local/lib/python3.7/dist-packages (from tensorboard>=1.15->avalanche-lib) (1.50.0)\n",
            "Requirement already satisfied: absl-py>=0.4 in /usr/local/lib/python3.7/dist-packages (from tensorboard>=1.15->avalanche-lib) (1.3.0)\n",
            "Requirement already satisfied: wheel>=0.26 in /usr/local/lib/python3.7/dist-packages (from tensorboard>=1.15->avalanche-lib) (0.38.3)\n",
            "Requirement already satisfied: markdown>=2.6.8 in /usr/local/lib/python3.7/dist-packages (from tensorboard>=1.15->avalanche-lib) (3.4.1)\n",
            "Requirement already satisfied: google-auth<3,>=1.6.3 in /usr/local/lib/python3.7/dist-packages (from tensorboard>=1.15->avalanche-lib) (2.14.1)\n",
            "Requirement already satisfied: requests<3,>=2.21.0 in /usr/local/lib/python3.7/dist-packages (from tensorboard>=1.15->avalanche-lib) (2.23.0)\n",
            "Requirement already satisfied: tensorboard-plugin-wit>=1.6.0 in /usr/local/lib/python3.7/dist-packages (from tensorboard>=1.15->avalanche-lib) (1.8.1)\n",
            "Requirement already satisfied: werkzeug>=1.0.1 in /usr/local/lib/python3.7/dist-packages (from tensorboard>=1.15->avalanche-lib) (1.0.1)\n",
            "Requirement already satisfied: cachetools<6.0,>=2.0.0 in /usr/local/lib/python3.7/dist-packages (from google-auth<3,>=1.6.3->tensorboard>=1.15->avalanche-lib) (5.2.0)\n",
            "Requirement already satisfied: pyasn1-modules>=0.2.1 in /usr/local/lib/python3.7/dist-packages (from google-auth<3,>=1.6.3->tensorboard>=1.15->avalanche-lib) (0.2.8)\n",
            "Requirement already satisfied: rsa<5,>=3.1.4 in /usr/local/lib/python3.7/dist-packages (from google-auth<3,>=1.6.3->tensorboard>=1.15->avalanche-lib) (4.9)\n",
            "Requirement already satisfied: six>=1.9.0 in /usr/local/lib/python3.7/dist-packages (from google-auth<3,>=1.6.3->tensorboard>=1.15->avalanche-lib) (1.15.0)\n",
            "Requirement already satisfied: requests-oauthlib>=0.7.0 in /usr/local/lib/python3.7/dist-packages (from google-auth-oauthlib<0.5,>=0.4.1->tensorboard>=1.15->avalanche-lib) (1.3.1)\n",
            "Requirement already satisfied: importlib-metadata>=4.4 in /usr/local/lib/python3.7/dist-packages (from markdown>=2.6.8->tensorboard>=1.15->avalanche-lib) (4.13.0)\n",
            "Requirement already satisfied: zipp>=0.5 in /usr/local/lib/python3.7/dist-packages (from importlib-metadata>=4.4->markdown>=2.6.8->tensorboard>=1.15->avalanche-lib) (3.10.0)\n",
            "Requirement already satisfied: pyasn1<0.5.0,>=0.4.6 in /usr/local/lib/python3.7/dist-packages (from pyasn1-modules>=0.2.1->google-auth<3,>=1.6.3->tensorboard>=1.15->avalanche-lib) (0.4.8)\n",
            "Requirement already satisfied: urllib3!=1.25.0,!=1.25.1,<1.26,>=1.21.1 in /usr/local/lib/python3.7/dist-packages (from requests<3,>=2.21.0->tensorboard>=1.15->avalanche-lib) (1.24.3)\n",
            "Requirement already satisfied: chardet<4,>=3.0.2 in /usr/local/lib/python3.7/dist-packages (from requests<3,>=2.21.0->tensorboard>=1.15->avalanche-lib) (3.0.4)\n",
            "Requirement already satisfied: idna<3,>=2.5 in /usr/local/lib/python3.7/dist-packages (from requests<3,>=2.21.0->tensorboard>=1.15->avalanche-lib) (2.10)\n",
            "Requirement already satisfied: certifi>=2017.4.17 in /usr/local/lib/python3.7/dist-packages (from requests<3,>=2.21.0->tensorboard>=1.15->avalanche-lib) (2022.9.24)\n",
            "Requirement already satisfied: oauthlib>=3.0.0 in /usr/local/lib/python3.7/dist-packages (from requests-oauthlib>=0.7.0->google-auth-oauthlib<0.5,>=0.4.1->tensorboard>=1.15->avalanche-lib) (3.2.2)\n",
            "Requirement already satisfied: beautifulsoup4 in /usr/local/lib/python3.7/dist-packages (from gdown->avalanche-lib) (4.6.3)\n",
            "Requirement already satisfied: filelock in /usr/local/lib/python3.7/dist-packages (from gdown->avalanche-lib) (3.8.0)\n",
            "Requirement already satisfied: kiwisolver>=1.0.1 in /usr/local/lib/python3.7/dist-packages (from matplotlib->avalanche-lib) (1.4.4)\n",
            "Requirement already satisfied: cycler>=0.10 in /usr/local/lib/python3.7/dist-packages (from matplotlib->avalanche-lib) (0.11.0)\n",
            "Requirement already satisfied: pyparsing!=2.0.4,!=2.1.2,!=2.1.6,>=2.0.1 in /usr/local/lib/python3.7/dist-packages (from matplotlib->avalanche-lib) (3.0.9)\n",
            "Requirement already satisfied: python-dateutil>=2.1 in /usr/local/lib/python3.7/dist-packages (from matplotlib->avalanche-lib) (2.8.2)\n",
            "Requirement already satisfied: PySocks!=1.5.7,>=1.5.6 in /usr/local/lib/python3.7/dist-packages (from requests<3,>=2.21.0->tensorboard>=1.15->avalanche-lib) (1.7.1)\n",
            "Requirement already satisfied: threadpoolctl>=2.0.0 in /usr/local/lib/python3.7/dist-packages (from scikit-learn->avalanche-lib) (3.1.0)\n",
            "Requirement already satisfied: scipy>=1.1.0 in /usr/local/lib/python3.7/dist-packages (from scikit-learn->avalanche-lib) (1.7.3)\n",
            "Requirement already satisfied: joblib>=0.11 in /usr/local/lib/python3.7/dist-packages (from scikit-learn->avalanche-lib) (1.2.0)\n",
            "Requirement already satisfied: packaging in /usr/local/lib/python3.7/dist-packages (from torchmetrics->avalanche-lib) (21.3)\n",
            "Requirement already satisfied: pillow!=8.3.*,>=5.3.0 in /usr/local/lib/python3.7/dist-packages (from torchvision->avalanche-lib) (7.1.2)\n",
            "Requirement already satisfied: sentry-sdk>=1.0.0 in /usr/local/lib/python3.7/dist-packages (from wandb->avalanche-lib) (1.9.0)\n",
            "Requirement already satisfied: docker-pycreds>=0.4.0 in /usr/local/lib/python3.7/dist-packages (from wandb->avalanche-lib) (0.4.0)\n",
            "Requirement already satisfied: Click!=8.0.0,>=7.0 in /usr/local/lib/python3.7/dist-packages (from wandb->avalanche-lib) (7.1.2)\n",
            "Requirement already satisfied: PyYAML in /usr/local/lib/python3.7/dist-packages (from wandb->avalanche-lib) (6.0)\n",
            "Requirement already satisfied: setproctitle in /usr/local/lib/python3.7/dist-packages (from wandb->avalanche-lib) (1.3.2)\n",
            "Requirement already satisfied: shortuuid>=0.5.0 in /usr/local/lib/python3.7/dist-packages (from wandb->avalanche-lib) (1.0.11)\n",
            "Requirement already satisfied: promise<3,>=2.0 in /usr/local/lib/python3.7/dist-packages (from wandb->avalanche-lib) (2.3)\n",
            "Requirement already satisfied: GitPython>=1.0.0 in /usr/local/lib/python3.7/dist-packages (from wandb->avalanche-lib) (3.1.29)\n",
            "Requirement already satisfied: pathtools in /usr/local/lib/python3.7/dist-packages (from wandb->avalanche-lib) (0.1.2)\n",
            "Requirement already satisfied: gitdb<5,>=4.0.1 in /usr/local/lib/python3.7/dist-packages (from GitPython>=1.0.0->wandb->avalanche-lib) (4.0.9)\n",
            "Requirement already satisfied: smmap<6,>=3.0.1 in /usr/local/lib/python3.7/dist-packages (from gitdb<5,>=4.0.1->GitPython>=1.0.0->wandb->avalanche-lib) (5.0.0)\n",
            "Looking in indexes: https://pypi.org/simple, https://us-python.pkg.dev/colab-wheels/public/simple/\n",
            "Requirement already satisfied: rasterio in /usr/local/lib/python3.7/dist-packages (1.2.10)\n",
            "Requirement already satisfied: certifi in /usr/local/lib/python3.7/dist-packages (from rasterio) (2022.9.24)\n",
            "Requirement already satisfied: click-plugins in /usr/local/lib/python3.7/dist-packages (from rasterio) (1.1.1)\n",
            "Requirement already satisfied: attrs in /usr/local/lib/python3.7/dist-packages (from rasterio) (22.1.0)\n",
            "Requirement already satisfied: click>=4.0 in /usr/local/lib/python3.7/dist-packages (from rasterio) (7.1.2)\n",
            "Requirement already satisfied: affine in /usr/local/lib/python3.7/dist-packages (from rasterio) (2.3.1)\n",
            "Requirement already satisfied: setuptools in /usr/local/lib/python3.7/dist-packages (from rasterio) (57.4.0)\n",
            "Requirement already satisfied: cligj>=0.5 in /usr/local/lib/python3.7/dist-packages (from rasterio) (0.7.2)\n",
            "Requirement already satisfied: snuggs>=1.4.1 in /usr/local/lib/python3.7/dist-packages (from rasterio) (1.4.7)\n",
            "Requirement already satisfied: numpy in /usr/local/lib/python3.7/dist-packages (from rasterio) (1.21.6)\n",
            "Requirement already satisfied: pyparsing>=2.1.6 in /usr/local/lib/python3.7/dist-packages (from snuggs>=1.4.1->rasterio) (3.0.9)\n"
          ]
        }
      ]
    },
    {
      "cell_type": "code",
      "source": [
        "\"\"\"\n",
        "    Importing the necessary libraries used in this notebook\n",
        "\"\"\"\n",
        "\n",
        "\n",
        "import os\n",
        "import sys\n",
        "import glob\n",
        "import warnings\n",
        "from typing import Any, Callable, Dict, List, Optional, Tuple\n",
        "\n",
        "import rasterio\n",
        "from rasterio.plot import reshape_as_image\n",
        "\n",
        "import numpy as np\n",
        "\n",
        "import torch\n",
        "from torch.utils.data import Dataset\n",
        "from torch.optim import Adam\n",
        "from torch.nn import CrossEntropyLoss\n",
        "from torchvision import transforms\n",
        "from torchvision.models import resnet18\n",
        "\n",
        "from avalanche.benchmarks.utils import DatasetFolder\n",
        "from avalanche.training import Naive\n",
        "from avalanche.training.plugins import EvaluationPlugin\n",
        "from avalanche.evaluation.metrics import (\n",
        "    forgetting_metrics, \n",
        "    accuracy_metrics,\n",
        "    loss_metrics, \n",
        "    timing_metrics, \n",
        "    cpu_usage_metrics, \n",
        "    StreamConfusionMatrix,\n",
        "    disk_usage_metrics, \n",
        "    gpu_usage_metrics\n",
        ")\n",
        "from avalanche.logging import (\n",
        "    InteractiveLogger, \n",
        "    TextLogger, \n",
        "    TensorboardLogger\n",
        ")"
      ],
      "metadata": {
        "id": "28Rf-sEIihxc"
      },
      "execution_count": null,
      "outputs": []
    },
    {
      "cell_type": "markdown",
      "source": [
        "### **Loading the data - Scenario Creation**\n",
        "\n",
        "* Defining list and dictionaires of the classes\n",
        "\n",
        "* Defining the transformations to be used\n",
        "\n",
        "* Creating the Continual Learning scenarios"
      ],
      "metadata": {
        "id": "hm5oIfI1CbGh"
      }
    },
    {
      "cell_type": "code",
      "source": [
        "\"\"\"\n",
        "    Defining lists and dictionaries for the classes.\n",
        "\n",
        "    + IDX_CLASS_LABELS: \n",
        "                Dictionary that maps integer class label keys to the \n",
        "                adjacent class label values\n",
        "\n",
        "    + CLASSES: \n",
        "                A list containing all the class names\n",
        "\n",
        "    + CLASS_IDX_LABELS: \n",
        "                Dictionary that maps string class label keys to the\n",
        "                adjacent integer class label values\n",
        "\"\"\"\n",
        "\n",
        "\n",
        "IDX_CLASS_LABELS = {\n",
        "    0: 'airport',\n",
        "    1: 'bare-land',\n",
        "    2: 'beach',\n",
        "    3: 'bridge',\n",
        "    4: 'commercial',\n",
        "    5: 'desert',\n",
        "    6: 'farmland',\n",
        "    7: 'forest',\n",
        "    8: 'golf-course',\n",
        "    9: 'highway',\n",
        "    10: 'industrial',\n",
        "    11: 'meadow',\n",
        "    12: 'mountain',\n",
        "    13: 'overpass',\n",
        "    14: 'park',\n",
        "    15: 'parking',\n",
        "    16: 'playground',\n",
        "    17: 'port',\n",
        "    18: 'railway',\n",
        "    19: 'railway-station',\n",
        "    20: 'residential',\n",
        "    21: 'river',\n",
        "    22: 'runway',\n",
        "    23: 'stadium',\n",
        "    24: 'storage-tank'\n",
        "}\n",
        "\n",
        "CLASSES = [\n",
        "    'airport', \n",
        "    'bare-land', \n",
        "    'beach', \n",
        "    'bridge', \n",
        "    'commercial', \n",
        "    'desert',\n",
        "    'farmland', \n",
        "    'forest',\n",
        "    'golf-course',\n",
        "    'highway',\n",
        "    'industrial',\n",
        "    'meadow',\n",
        "    'mountain',\n",
        "    'overpass',\n",
        "    'park',\n",
        "    'parking',\n",
        "    'playground',\n",
        "    'port',\n",
        "    'railway',\n",
        "    'railway-station',\n",
        "    'residential',\n",
        "    'river',\n",
        "    'runway',\n",
        "    'stadium',\n",
        "    'storage-tank'\n",
        "]\n",
        "\n",
        "CLASS_IDX_LABELS = dict()\n",
        "for key, val in IDX_CLASS_LABELS.items():\n",
        "  CLASS_IDX_LABELS[val] = key"
      ],
      "metadata": {
        "id": "1GWspy9WE0Qe"
      },
      "execution_count": null,
      "outputs": []
    },
    {
      "cell_type": "code",
      "source": [
        "\"\"\"\n",
        "    Callable functions that map integer to string class label values and vise\n",
        "    versa.\n",
        "\n",
        "    + encode_label(label):\n",
        "            - Input: a string value class label\n",
        "            - Output: an integer value class label\n",
        "    \n",
        "    + decode_target(target):\n",
        "            - Input: an integer value class label\n",
        "            - Output: a string value class label\n",
        "\"\"\"\n",
        "\n",
        "\n",
        "## Take a class label and return the index\n",
        "def encode_label(label):\n",
        "    return CLASS_IDX_LABELS[label] \n",
        "     \n",
        "\n",
        "## Take in idx and return the class name\n",
        "def decode_target(target):\n",
        "    return IDX_CLASS_LABELS[target]"
      ],
      "metadata": {
        "id": "vyHH4cJ4E5v8"
      },
      "execution_count": null,
      "outputs": []
    },
    {
      "cell_type": "code",
      "source": [
        "\"\"\"\n",
        "    Defining the transformations for the images in a callable function.\n",
        "    This will then be passed to avalanche's \"filelist_benchmark\" scenario\n",
        "    generator to transform the images during training.\n",
        "\"\"\"\n",
        "\n",
        "\n",
        "torch.manual_seed(10)\n",
        "\n",
        "data_transformation = transforms.Compose([\n",
        "    transforms.Resize(64),\n",
        "    transforms.RandomHorizontalFlip(p=0.5),\n",
        "    transforms.ToTensor()\n",
        "])"
      ],
      "metadata": {
        "id": "Ne6x494433GL"
      },
      "execution_count": null,
      "outputs": []
    },
    {
      "cell_type": "code",
      "source": [
        "# FOR CLASS INCREMENTAL - use DatasetFolder or dataset_benchmark\n",
        "# DatasetFolder refers to tne PyTorch implementation of the Dataset class. \n",
        "# Overwrite this with the specifications below (paths and targets are needed - \n",
        "# avalanche then resolves the rest)\n",
        "# Then, once Datasets are created for the classes, pass them to dataset_benchmark\n",
        "# as a list of datasets"
      ],
      "metadata": {
        "id": "D6_J3Jxwt-kf"
      },
      "execution_count": null,
      "outputs": []
    },
    {
      "cell_type": "code",
      "source": [
        "# create a Dataset class with a paths attribute and a targets attribute (lists with equal size)"
      ],
      "metadata": {
        "id": "un9BvLuBnhFW"
      },
      "execution_count": null,
      "outputs": []
    },
    {
      "cell_type": "code",
      "source": [
        "# dataset_benchmark can be used as well for Domain Incremental"
      ],
      "metadata": {
        "id": "4Oh7geB6sjZU"
      },
      "execution_count": null,
      "outputs": []
    },
    {
      "cell_type": "code",
      "source": [
        "\"\"\"\n",
        "    Dataset class for defining the Domain Incremental scenarios.\n",
        "\n",
        "    + Attributes:\n",
        "      - root: a string that defines the root path to the dataset and scenarios\n",
        "      - paths: a string the is the file name of the text file containing the\n",
        "               samples for each scenario\n",
        "      - transform: OPTIONAL a callable function that transforms the images\n",
        "      - target_transform: OPTIONAL a callable function that transforms the \n",
        "                          image labels\n",
        "    \n",
        "    + Properties:\n",
        "      - targets: returns a list of target labels for the dataset\n",
        "      - data: returns a list of all the images in the dataset\n",
        "        -- The mapping from targets to data is made with an index. Each image\n",
        "           and the corresponding label exist in the same index in both lists\n",
        "\n",
        "    + Methods:\n",
        "      - _load_data(): PRIVATE is called in the constructor method and loads\n",
        "                      all the data from the 'paths' file in the local \n",
        "                      runtime environment\n",
        "      - __getitem__(index: int): returns a tuple of (image, label) given an\n",
        "                                 index from the dataloader\n",
        "\"\"\"\n",
        "\n",
        "\n",
        "def DC_CLRS_DATASET(Dataset):\n",
        "\n",
        "\n",
        "  @property\n",
        "  def train_labels(self):\n",
        "        warnings.warn(\"train_labels has been renamed targets\")\n",
        "        return self.targets\n",
        "\n",
        "\n",
        "  @property\n",
        "  def test_labels(self):\n",
        "      warnings.warn(\"test_labels has been renamed targets\")\n",
        "      return self.targets\n",
        "\n",
        "\n",
        "  @property\n",
        "  def train_data(self):\n",
        "      warnings.warn(\"train_data has been renamed data\")\n",
        "      return self.data\n",
        "\n",
        "\n",
        "  @property\n",
        "  def test_data(self):\n",
        "      warnings.warn(\"test_data has been renamed data\")\n",
        "      return self.data\n",
        "\n",
        "\n",
        "  def __init__(\n",
        "      self, \n",
        "      root: str,\n",
        "      paths: str,\n",
        "      transform: Optional[Callable] = None,\n",
        "      target_transform: Optional[Callable] = None\n",
        "  ):\n",
        "    super.__init__(\n",
        "        root, \n",
        "        transform=transform, \n",
        "        target_transform=target_transform\n",
        "    )\n",
        "    self.paths = paths\n",
        "\n",
        "    self.data, self.targets = self._load_data()\n",
        "\n",
        "\n",
        "  def _load_data(self):\n",
        "    data = list\n",
        "    targets = list\n",
        "\n",
        "    with open(os.path.join(self.root, self.paths), 'r') as f:\n",
        "      ds_paths = f.readlines()\n",
        "\n",
        "    for path in ds_paths:\n",
        "      targets.append(path.split('\\t')[1].replace('\\n', ''))\n",
        "\n",
        "      image_path = path.split('\\t')[0]\n",
        "      with rasterio.open(os.path.join(self.root, image_path), 'r') as img:\n",
        "        data[targets].append(img.read([1,2,3]))\n",
        "\n",
        "    return data, targets\n",
        "\n",
        "    \n",
        "  def __getitem__(self, index: int):\n",
        "    \n",
        "    image, label = self.data[index], int(self.targets[index])\n",
        "\n",
        "    # do the transforms\n",
        "\n",
        "    return image, label"
      ],
      "metadata": {
        "id": "J9ikjtr55gfR"
      },
      "execution_count": null,
      "outputs": []
    }
  ]
}